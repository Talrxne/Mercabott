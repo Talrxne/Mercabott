{
 "cells": [
  {
   "cell_type": "code",
   "execution_count": null,
   "id": "ID TOKEN",
   "metadata": {},
   "outputs": [
    {
     "name": "stdout",
     "output_type": "stream",
     "text": [
      "mensagem do cliente: olá\n",
      "respondi: Olá seja bem vindo a Mercatto Eletrônicos, informe a opção que deseja:\n",
      "1 - Agendamento\n",
      "2 - Preços\n",
      "3 - Problemas \n",
      "4 - Atendentes\n",
      "mensagem do cliente: 4\n",
      "respondi: Digite \"Atendente\", caso queira ser redirecionado a um dos nossos atendentes.\n",
      "\n",
      "mensagem do cliente: atendente\n",
      "respondi: Estamos te redirecionando a um dos nossos atendentes. Por favor, aguarde...\n",
      "mensagem do cliente: obrigado\n",
      "respondi:  Agradeço sua preferência, por gentileza avalie nosso atendimento realizando a seguinte pesquisa: https://forms.gle/yH5Wt7RT91YrwTLPA\n"
     ]
    }
   ],
   "source": [
    "import requests\n",
    "import time\n",
    "import json\n",
    "import os\n",
    "\n",
    "class TelegramBot:\n",
    "    def __init__(self):\n",
    "        iTOKEN  = '7255558642:AAHW9C40VFzt6ElVl6KlcUrc3IyhRtiZyzI'\n",
    "        self.iURL = f'https://api.telegram.org/bot{iTOKEN}/'\n",
    "\n",
    "    def Iniciar(self):\n",
    "        iUPDATE_ID = None\n",
    "        while True:\n",
    "            iATUALIZACAO = self.ler_novas_mensagens(iUPDATE_ID)\n",
    "            IDADOS = iATUALIZACAO[\"result\"]\n",
    "            if IDADOS:\n",
    "                for dado in IDADOS:\n",
    "                    iUPDATE_ID = dado['update_id']\n",
    "                    mensagem = str(dado[\"message\"][\"text\"])\n",
    "                    chat_id = dado[\"message\"][\"from\"][\"id\"]\n",
    "                    primeira_mensagem = int(dado[\"message\"][\"message_id\"]) == 1\n",
    "                    resposta = self.gerar_respostas(mensagem, primeira_mensagem)\n",
    "                    self.responder(resposta, chat_id)\n",
    "\n",
    "    def ler_novas_mensagens(self, iUPDATE_ID):\n",
    "        iLINK_REQ = f'{self.iURL}getUpdates?timeout=5'\n",
    "        if iUPDATE_ID:\n",
    "            iLINK_REQ = f'{iLINK_REQ}&offset={iUPDATE_ID + 1}'\n",
    "        iRESULT = requests.get(iLINK_REQ)\n",
    "        return json.loads(iRESULT.content)\n",
    "\n",
    "    def gerar_respostas(self, mensagem, primeira_mensagem):\n",
    "        print('mensagem do cliente: ' + str(mensagem))\n",
    "        if primeira_mensagem == True or mensagem.lower() in ('menu', 'olá', 'oi', 'bom dia', 'boa tarde', 'boa noite', 'salve', 'como vai', 'tudo bem', 'hey', 'oii'):\n",
    "            return f'''Olá seja bem vindo a Mercatto Eletrônicos, informe a opção que deseja:{os.linesep}1 - Agendamento{os.linesep}2 - Preços{os.linesep}3 - Problemas {os.linesep}4 - Atendentes'''\n",
    "        if mensagem == '1':\n",
    "            return f'''Por favor, informe a data e horário que deseja agendar:{os.linesep}'''\n",
    "           \n",
    "        elif mensagem == '2':\n",
    "            return f'''Preços variam de acordo com o serviço. Para mais informações, nos envie o tipo de serviço que deseja consultar{os.linesep}\n",
    "            '''\n",
    "        elif mensagem == '3':\n",
    "            return f'''Está enfrentando algum problema? Por favor, descreva o problema para que possamos ajudar!{os.linesep}(Digite 's' para sim ou 'n' para não){os.linesep}'''\n",
    "        \n",
    "        elif mensagem == '4':\n",
    "            return f'''Digite \"Atendente\", caso queira ser redirecionado a um dos nossos atendentes.{os.linesep}'''\n",
    "            \n",
    "        elif mensagem.lower() in ('atendente'):\n",
    "            return f'''Estamos te redirecionando a um dos nossos atendentes. Por favor, aguarde...'''\n",
    "\n",
    "        elif mensagem.lower() in ('ok', 'obrigado', 'agradeço', 'valeu', 'muito obrigado', 'grato', 'obrigada'):\n",
    "            return f''' Agradeço sua preferência, por gentileza avalie nosso atendimento realizando a seguinte pesquisa: https://forms.gle/yH5Wt7RT91YrwTLPA'''\n",
    "        else: \n",
    "            return f'''Desculpe, não entendi sua solicitação. Por favor, escolha uma das opções disponíveis no menu: 1 - Agendamento, 2 - Preços, 3 - Problemas.'''\n",
    "             \n",
    "    def responder(self, resposta, chat_id):\n",
    "        iLINK_REQ = f'{self.iURL}sendMessage?chat_id={chat_id}&text={resposta}'\n",
    "        requests.get(iLINK_REQ)\n",
    "        print(\"respondi: \" + str(resposta))\n",
    "\n",
    "\n",
    "bot = TelegramBot()\n",
    "bot.Iniciar() "
   ]
  },
  {
   "cell_type": "code",
   "execution_count": null,
   "id": "b04785e1-c622-4386-8c32-a22f573e5bbf",
   "metadata": {},
   "outputs": [],
   "source": [
    "\n"
   ]
  }
 ],
 "metadata": {
  "kernelspec": {
   "display_name": "Python 3 (ipykernel)",
   "language": "python",
   "name": "python3"
  },
  "language_info": {
   "codemirror_mode": {
    "name": "ipython",
    "version": 3
   },
   "file_extension": ".py",
   "mimetype": "text/x-python",
   "name": "python",
   "nbconvert_exporter": "python",
   "pygments_lexer": "ipython3",
   "version": "3.12.4"
  }
 },
 "nbformat": 4,
 "nbformat_minor": 5
}
